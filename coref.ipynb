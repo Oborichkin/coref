{
 "cells": [
  {
   "cell_type": "code",
   "execution_count": 3,
   "metadata": {},
   "outputs": [],
   "source": [
    "from coref import nlp"
   ]
  },
  {
   "cell_type": "code",
   "execution_count": 3,
   "metadata": {},
   "outputs": [
    {
     "name": "stdout",
     "output_type": "stream",
     "text": [
      "[Joseph Robinette Biden Jr.: [Joseph Robinette Biden Jr., he]]\n",
      "Joseph Robinette Biden Jr. is an American politician who is the 46th andcurrent president of the United States. A member of the Democratic Party, Joseph Robinette Biden Jr. served as the 47th vice president from 2009 to 2017 under Barack Obama andrepresented Delaware in the United States Senate from 1973 to 2009.\n"
     ]
    }
   ],
   "source": [
    "text = \"Joseph Robinette Biden Jr. is an American politician who is the 46th and\\\n",
    "current president of the United States. A member of the Democratic Party, \\\n",
    "he served as the 47th vice president from 2009 to 2017 under Barack Obama and\\\n",
    "represented Delaware in the United States Senate from 1973 to 2009.\"\n",
    "\n",
    "doc = nlp(text)  # get the spaCy Doc (composed of Tokens)\n",
    "\n",
    "print(doc._.coref_clusters)  # You can see cluster of similar mentions\n",
    "print(doc._.coref_resolved)"
   ]
  },
  {
   "cell_type": "code",
   "execution_count": 5,
   "metadata": {},
   "outputs": [
    {
     "name": "stdout",
     "output_type": "stream",
     "text": [
      "[Alice: [Alice, his], SIP URIs: [SIP URIs, It]]\n",
      "Alice calls Bob using Alice SIP identity, a type of Uniform Resource Identifier (URI) called a SIP URI. SIP URIs are defined in Section 19.1.  SIP URIs has a similar form to an email address, typically containing a username and a host name.\n"
     ]
    }
   ],
   "source": [
    "text = \"Alice calls Bob using his SIP identity, a type of Uniform Resource\\\n",
    " Identifier (URI) called a SIP URI. SIP URIs are defined in Section\\\n",
    " 19.1.  It has a similar form to an email address, typically\\\n",
    " containing a username and a host name.\"\n",
    "\n",
    "doc = nlp(text)  # get the spaCy Doc (composed of Tokens)\n",
    "\n",
    "print(doc._.coref_clusters)  # You can see cluster of similar mentions\n",
    "print(doc._.coref_resolved)"
   ]
  },
  {
   "cell_type": "code",
   "execution_count": 12,
   "metadata": {},
   "outputs": [
    {
     "data": {
      "text/plain": [
       "Alice calls Bob using his SIP identity, a type of Uniform Resource Identifier (URI) called a SIP URI. SIP URIs are defined in Section 19.1.  It has a similar form to an email address, typically containing a username and a host name."
      ]
     },
     "execution_count": 12,
     "metadata": {},
     "output_type": "execute_result"
    }
   ],
   "source": [
    "doc"
   ]
  },
  {
   "cell_type": "code",
   "execution_count": 16,
   "metadata": {},
   "outputs": [
    {
     "name": "stdout",
     "output_type": "stream",
     "text": [
      "[Bob: [Bob, he, his], the call: [the call, the call]]\n",
      "In this example, Bob decides to answer the call.  When Bob picks up   the handset, Bob SIP phone sends a 200 (OK) response to indicate that   the call has been answered.\n"
     ]
    }
   ],
   "source": [
    "text = \"In this example, Bob decides to answer the call.  When he picks up\\\n",
    "   the handset, his SIP phone sends a 200 (OK) response to indicate that\\\n",
    "   the call has been answered.\"\n",
    "\n",
    "\n",
    "doc = nlp(text)  # get the spaCy Doc (composed of Tokens)\n",
    "\n",
    "print(doc._.coref_clusters)  # You can see cluster of similar mentions\n",
    "print(doc._.coref_resolved)"
   ]
  },
  {
   "cell_type": "code",
   "execution_count": 14,
   "metadata": {},
   "outputs": [],
   "source": [
    "import json\n",
    "\n",
    "with open(\"data/rfc3261.json\") as f:\n",
    "    rfc_json = json.load(f)\n",
    "\n",
    "for ch in rfc_json[\"chapters\"]:\n",
    "    for sec in ch[\"sections\"]:\n",
    "        if sec[\"type\"] == \"text\":\n",
    "            sec[\"text\"] = nlp(sec[\"text\"])._.coref_resolved\n",
    "\n",
    "with open(\"data/rfc3261(resolved).json\", \"w+\") as f:\n",
    "    json.dump(rfc_json, f)"
   ]
  },
  {
   "cell_type": "code",
   "execution_count": 4,
   "metadata": {},
   "outputs": [
    {
     "name": "stdout",
     "output_type": "stream",
     "text": [
      "[]\n",
      "A dialog is a peer-to-peer SIP relationship between two user agents that persists for some time.\n"
     ]
    }
   ],
   "source": [
    "text = \"A dialog is a peer-to-peer SIP relationship between two user agents that persists for some time.\"\n",
    "\n",
    "doc = nlp(text)  # get the spaCy Doc (composed of Tokens)\n",
    "\n",
    "print(doc._.coref_clusters)  # You can see cluster of similar mentions\n",
    "print(doc._.coref_resolved)"
   ]
  }
 ],
 "metadata": {
  "interpreter": {
   "hash": "c076fa18cd3912fc383330ada23bb2283cfc2e34ec99a84703aa06660605020f"
  },
  "kernelspec": {
   "display_name": "Python 3.8.10 ('.venv': venv)",
   "language": "python",
   "name": "python3"
  },
  "language_info": {
   "codemirror_mode": {
    "name": "ipython",
    "version": 3
   },
   "file_extension": ".py",
   "mimetype": "text/x-python",
   "name": "python",
   "nbconvert_exporter": "python",
   "pygments_lexer": "ipython3",
   "version": "3.8.10"
  },
  "orig_nbformat": 4
 },
 "nbformat": 4,
 "nbformat_minor": 2
}
